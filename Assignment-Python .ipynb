{
 "cells": [
  {
   "cell_type": "markdown",
   "id": "ee665823",
   "metadata": {},
   "source": [
    "1.Python Basics"
   ]
  },
  {
   "cell_type": "code",
   "execution_count": 1,
   "id": "0d9853a9",
   "metadata": {},
   "outputs": [
    {
     "name": "stdout",
     "output_type": "stream",
     "text": [
      "Tahura\n"
     ]
    }
   ],
   "source": [
    "# Write a program to print your name.\n",
    "\n",
    "print (\"Tahura\")"
   ]
  },
  {
   "cell_type": "code",
   "execution_count": 2,
   "id": "5b060b9b",
   "metadata": {},
   "outputs": [
    {
     "name": "stdout",
     "output_type": "stream",
     "text": [
      "Multi-line comments\n"
     ]
    }
   ],
   "source": [
    "# Write a program for a Single line comment and multi-line comments.\n",
    "\n",
    "# Read the input from the user\n",
    "# Perform some operations on the input data\n",
    "# Output the result\n",
    "print(\"Multi-line comments\")\n"
   ]
  },
  {
   "cell_type": "code",
   "execution_count": 3,
   "id": "8ecef398",
   "metadata": {},
   "outputs": [
    {
     "name": "stdout",
     "output_type": "stream",
     "text": [
      "Type of a:  <class 'int'>\n",
      "Type of b:  <class 'bool'>\n",
      "Type of c:  <class 'float'>\n",
      "Type of String:  <class 'str'>\n"
     ]
    }
   ],
   "source": [
    "# Define variables for different Data Types int, Boolean, char, float, double and print on the Console.\n",
    "\n",
    "a = -10\n",
    "print(\"Type of a: \", type(a))\n",
    "b = True\n",
    "print(\"Type of b: \", type(b))\n",
    "c = 155.0\n",
    "print(\"Type of c: \", type(c))\n",
    "String = 'Hello World'\n",
    "print(\"Type of String: \", type(String))"
   ]
  },
  {
   "cell_type": "code",
   "execution_count": 4,
   "id": "14c8fb4d",
   "metadata": {},
   "outputs": [],
   "source": [
    "# Define the local and Global variables with the same name and print both variables and understand the scope of the variables.\n",
    "\n",
    "a = 29"
   ]
  },
  {
   "cell_type": "code",
   "execution_count": 5,
   "id": "47ff60c0",
   "metadata": {},
   "outputs": [],
   "source": [
    "# Uses global because there is no local 'a'\n",
    "def f():\n",
    "    print('Inside f() : ', a)"
   ]
  },
  {
   "cell_type": "code",
   "execution_count": 6,
   "id": "e34c0111",
   "metadata": {},
   "outputs": [],
   "source": [
    "# Variable 'a' is redefined as a local\n",
    "def g():\n",
    "    a = 4\n",
    "    print('Inside g() : ', a) \n",
    "    "
   ]
  },
  {
   "cell_type": "code",
   "execution_count": 7,
   "id": "ffd7ed7f",
   "metadata": {},
   "outputs": [],
   "source": [
    "\n",
    "# Uses global keyword to modify global 'a'\n",
    "def h():\n",
    "    global a\n",
    "    a = 11      #Value of 'a' modified\n",
    "    print('Inside h() : ', a)  \n",
    "    "
   ]
  },
  {
   "cell_type": "code",
   "execution_count": 8,
   "id": "d616276f",
   "metadata": {},
   "outputs": [
    {
     "name": "stdout",
     "output_type": "stream",
     "text": [
      "global :  29\n",
      "Inside f() :  29\n",
      "global :  29\n",
      "Inside g() :  4\n",
      "global :  29\n",
      "Inside h() :  11\n",
      "global :  11\n"
     ]
    }
   ],
   "source": [
    "# Global scope\n",
    "print('global : ', a)\n",
    "f()\n",
    "print('global : ', a)\n",
    "g()\n",
    "print('global : ', a)\n",
    "h()\n",
    "print('global : ', a)"
   ]
  },
  {
   "cell_type": "markdown",
   "id": "8fb34e7b",
   "metadata": {},
   "source": [
    "2.Operators"
   ]
  },
  {
   "cell_type": "code",
   "execution_count": 9,
   "id": "c0cb6ddc",
   "metadata": {},
   "outputs": [
    {
     "name": "stdout",
     "output_type": "stream",
     "text": [
      "Enter first number: 10\n",
      "Enter second number: 12\n",
      "The sum of 10 and 12 is 22.0\n",
      "The subtraction of 10 and 12 is -2.0\n",
      "The multiplication of 10 and 12 is 120.0\n",
      "The division of 10 and 12 is 0.8333333333333334\n"
     ]
    }
   ],
   "source": [
    "# Write a function for arithmetic operators(+,-,*,/)\n",
    "\n",
    "# Store input numbers:  \n",
    "a = input('Enter first number: ')  \n",
    "b = input('Enter second number: ')  \n",
    "  \n",
    "# Add two numbers  \n",
    "sum = float(a) + float(b)  \n",
    "# Subtract two numbers  \n",
    "min = float(a) - float(b)  \n",
    "# Multiply two numbers  \n",
    "mul = float(a) * float(b)  \n",
    "#Divide two numbers  \n",
    "div = float(a) / float(b)  \n",
    "# Display the sum  \n",
    "print('The sum of {0} and {1} is {2}'.format(a,b, sum))  \n",
    "# Display the subtraction  \n",
    "print('The subtraction of {0} and {1} is {2}'.format(a, b, min))  \n",
    "# Display the multiplication  \n",
    "print('The multiplication of {0} and {1} is {2}'.format(a, b, mul))  \n",
    "# Display the division  \n",
    "print('The division of {0} and {1} is {2}'.format(a, b, div))  "
   ]
  },
  {
   "cell_type": "code",
   "execution_count": 10,
   "id": "2944de6f",
   "metadata": {},
   "outputs": [
    {
     "name": "stdout",
     "output_type": "stream",
     "text": [
      "The value of a is  2\n",
      "INCREMENTED FOR LOOP\n",
      "0\n",
      "1\n",
      "2\n",
      "3\n",
      "4\n",
      "\n",
      "DECREMENTED FOR LOOP\n",
      "4\n",
      "3\n",
      "2\n",
      "1\n",
      "0\n"
     ]
    }
   ],
   "source": [
    "# Write a method for increment and decrement operators(++, --)\n",
    "# A sample use of increasing the variable value by one.\n",
    "a = 0\n",
    "a += 1\n",
    "a = a+1\n",
    "print('The value of a is ',a)\n",
    "# Use of increment operator, here start = 1,step = 1(by default) and stop = 5 \n",
    "print(\"INCREMENTED FOR LOOP\")\n",
    "for i in range(5):\n",
    "   print(i)\n",
    "#Use of decrement operator, here start = 5, step = -1 and  stop = -1\n",
    "print(\"\\nDECREMENTED FOR LOOP\")\n",
    "for i in range(4, -1, -1):\n",
    "   print(i)"
   ]
  },
  {
   "cell_type": "code",
   "execution_count": 11,
   "id": "62d32bdf",
   "metadata": {},
   "outputs": [
    {
     "name": "stdout",
     "output_type": "stream",
     "text": [
      "Enter first number: 12\n",
      "Enter second number: 32\n",
      "Both numbers are not equal\n"
     ]
    }
   ],
   "source": [
    "# Write a program to find the two numbers equal or not.\n",
    "a = input('Enter first number: ')\n",
    "b = input('Enter second number: ')\n",
    "if a==b:\n",
    "    print(\"Both numbers are equal\")\n",
    "else:\n",
    "    print(\"Both numbers are not equal\")"
   ]
  },
  {
   "cell_type": "code",
   "execution_count": 12,
   "id": "91d63d5f",
   "metadata": {},
   "outputs": [
    {
     "name": "stdout",
     "output_type": "stream",
     "text": [
      "21\n",
      "12\n",
      "False\n",
      "False\n",
      "True\n",
      "True\n",
      "False\n",
      "True\n"
     ]
    }
   ],
   "source": [
    "# Program for relational operators (<,<==, >, >==)\n",
    "\n",
    "a = input()\n",
    "b = input()\n",
    "print(a < b)  #This operator(<) returns True if the left operand is less than the right operand.\n",
    "print(a <= b) #This operator(<=)returns True if the left operand is less than or equal to the right operand.\n",
    "print(a > b)  #This operator(>) returns True if the left operand is greater than the right operand.\n",
    "print(a >= b) #This operator(>=)returns True if the left operand is greater than or equal to the right operand.   \n",
    "print(a == b) #This operator(==)returns True if both the operands are equal i.e. if both the left and the right operand are equal to each other.\n",
    "print(a != b) #This operator(!=)returns True if both the operands are not equal."
   ]
  },
  {
   "cell_type": "code",
   "execution_count": 13,
   "id": "d4bcc35b",
   "metadata": {},
   "outputs": [
    {
     "name": "stdout",
     "output_type": "stream",
     "text": [
      "Enter first number: 12\n",
      "Enter second number: 43\n",
      "43  is greater \n",
      "12 is smaller2 \n"
     ]
    }
   ],
   "source": [
    "# Print the smaller and larger number.\n",
    "\n",
    "a = int(input('Enter first number: '))\n",
    "b = int(input('Enter second number: '))\n",
    "#To print larger number\n",
    "if a > b: \n",
    "     print(a, \"is greater \")\n",
    "else:\n",
    "    print(b, \" is greater \")\n",
    "#To print samller number\n",
    "if a < b:\n",
    "     print(a, \"is smaller2 \")\n",
    "else:\n",
    "    print(b, \" is smaller \")    "
   ]
  },
  {
   "cell_type": "markdown",
   "id": "066b3aff",
   "metadata": {},
   "source": [
    "3.LOOPS"
   ]
  },
  {
   "cell_type": "code",
   "execution_count": 14,
   "id": "7f4212aa",
   "metadata": {},
   "outputs": [
    {
     "name": "stdout",
     "output_type": "stream",
     "text": [
      "Bright IT Career\n",
      "Bright IT Career\n",
      "Bright IT Career\n",
      "Bright IT Career\n",
      "Bright IT Career\n",
      "Bright IT Career\n",
      "Bright IT Career\n",
      "Bright IT Career\n",
      "Bright IT Career\n",
      "Bright IT Career\n"
     ]
    }
   ],
   "source": [
    "# Write a program to print “Bright IT Career” ten times using for loop.\n",
    "\n",
    "from tkinter import N\n",
    "\n",
    "#Declaring variable\n",
    "a = \"Bright IT Career\"\n",
    "#using loop to print \"Bright IT Career\" 10 times\n",
    "for i in range(10):\n",
    "    print(a)"
   ]
  },
  {
   "cell_type": "code",
   "execution_count": 15,
   "id": "b6cb187b",
   "metadata": {},
   "outputs": [
    {
     "name": "stdout",
     "output_type": "stream",
     "text": [
      "1\n",
      "2\n",
      "3\n",
      "4\n",
      "5\n",
      "6\n",
      "7\n",
      "8\n",
      "9\n",
      "10\n",
      "11\n",
      "12\n",
      "13\n",
      "14\n",
      "15\n",
      "16\n",
      "17\n",
      "18\n",
      "19\n",
      "20\n"
     ]
    }
   ],
   "source": [
    "# Write a program to print 1 to 20 numbers using the while loop.\n",
    "\n",
    "i = 1\n",
    "#using loop to print 1 to 20 numbers\n",
    "while(i<=20):\n",
    "    print(i)\n",
    "    i+= 1 "
   ]
  },
  {
   "cell_type": "code",
   "execution_count": 16,
   "id": "d83db7e5",
   "metadata": {},
   "outputs": [
    {
     "name": "stdout",
     "output_type": "stream",
     "text": [
      "24\n",
      "42\n",
      "False\n",
      "True\n"
     ]
    }
   ],
   "source": [
    "# Program to equal operator and not equal operators.\n",
    "\n",
    "a = input()\n",
    "b = input()\n",
    "print(a ==b) #Equal operator\n",
    "print(a != b) #Not Equal operator"
   ]
  },
  {
   "cell_type": "code",
   "execution_count": 17,
   "id": "490fd129",
   "metadata": {},
   "outputs": [
    {
     "name": "stdout",
     "output_type": "stream",
     "text": [
      "Even Numbers: \n",
      "2 4 6 8 10 \n",
      "Odd Numbers:\n",
      "1 3 5 7 9 \n"
     ]
    }
   ],
   "source": [
    "# Write a program to print the odd and even numbers.\n",
    "\n",
    "Numbers = [1,2,3,4,5,6,7,8,9,10]\n",
    "print(\"Even Numbers: \")  \n",
    "for i in Numbers:     \n",
    "    if i % 2 == 0:       \n",
    "        print(i, end =\" \")    \n",
    "print(\"\\nOdd Numbers:\")\n",
    "for i in Numbers:\n",
    "    if i % 2 != 0:\n",
    "        print(i, end =\" \")\n",
    "print()"
   ]
  },
  {
   "cell_type": "code",
   "execution_count": 18,
   "id": "1c1051ed",
   "metadata": {},
   "outputs": [
    {
     "name": "stdout",
     "output_type": "stream",
     "text": [
      "Largest number is:  90\n"
     ]
    }
   ],
   "source": [
    "# Write a program to print largest number among three numbers.\n",
    "\n",
    "k = 40\n",
    "a = 50\n",
    "s = 90\n",
    "if k >= a and k >= s:\n",
    "    largest = k\n",
    "elif a >= k and a >= s:\n",
    "    largest = a\n",
    "else:\n",
    "    largest = s\n",
    "print(\"Largest number is: \",largest)  "
   ]
  },
  {
   "cell_type": "code",
   "execution_count": 19,
   "id": "f0cc0144",
   "metadata": {},
   "outputs": [
    {
     "name": "stdout",
     "output_type": "stream",
     "text": [
      "Even Numbers Between 10 to 20:  10 12 14 16 18 20 \n"
     ]
    }
   ],
   "source": [
    "# Write a program to print even number between 10 and 20 using while.\n",
    "\n",
    "a = 10\n",
    "b = 20\n",
    "print(\"Even Numbers Between 10 to 20: \",end=\" \")\n",
    "while a <= b:\n",
    "    if(a % 2 == 0):\n",
    "        print(\"{0}\".format(a),end=\" \")\n",
    "    a = a + 1\n",
    "print()"
   ]
  },
  {
   "cell_type": "code",
   "execution_count": 20,
   "id": "16683987",
   "metadata": {},
   "outputs": [
    {
     "name": "stdout",
     "output_type": "stream",
     "text": [
      "Print 1 to 10 using the do-while loop statement: 1 2 3 4 5 6 7 8 9 10 \n"
     ]
    }
   ],
   "source": [
    "\n",
    "# Write a program to print 1 to 10 using the do-while loop statement.\n",
    "\n",
    "a = 1\n",
    "print(\"Print 1 to 10 using the do-while loop statement:\",end=\" \")\n",
    "while True:\n",
    "    print(a,end=\" \")\n",
    "    a = a + 1\n",
    "    if(a > 10):\n",
    "        break \n",
    "print()"
   ]
  },
  {
   "cell_type": "code",
   "execution_count": 21,
   "id": "98f63499",
   "metadata": {},
   "outputs": [
    {
     "name": "stdout",
     "output_type": "stream",
     "text": [
      "Enter a number to check if its armstrong or not: 5355\n",
      "5355  is not an amstrong number\n"
     ]
    }
   ],
   "source": [
    "## Write a program to find Armstrong number or not.\n",
    "\n",
    "a = int(input('Enter a number to check if its armstrong or not: '))\n",
    "sum = 0\n",
    "temp = 0\n",
    "temp = a\n",
    "while temp > 0:\n",
    "    r = temp % 10\n",
    "    sum += r ** 3\n",
    "    temp //= 10\n",
    "if a == sum:\n",
    "    print(a,\" is an amstrong number\")\n",
    "else:\n",
    "    print(a,\" is not an amstrong number\")"
   ]
  },
  {
   "cell_type": "code",
   "execution_count": 22,
   "id": "40b9d2ed",
   "metadata": {},
   "outputs": [
    {
     "name": "stdout",
     "output_type": "stream",
     "text": [
      "Enter any number to check prime number or not: 23\n",
      "23 is a prime number\n"
     ]
    }
   ],
   "source": [
    "# Write a program to find the prime or not.\n",
    "\n",
    "number = int(input(\"Enter any number to check prime number or not: \"))\n",
    "\n",
    "# prime number is always greater than 1\n",
    "if number > 1:\n",
    "    for i in range(2, number):\n",
    "        if (number % i) == 0:\n",
    "            print(number, \"is not a prime number\")\n",
    "            break\n",
    "    else:\n",
    "        print(number, \"is a prime number\")\n",
    "        \n",
    "# if the entered number is less than or equal to 1\n",
    "# then it is not prime number\n",
    "else:\n",
    "    print(number, \"is not a prime number\")"
   ]
  },
  {
   "cell_type": "code",
   "execution_count": 23,
   "id": "c20065db",
   "metadata": {},
   "outputs": [
    {
     "name": "stdout",
     "output_type": "stream",
     "text": [
      "Enter number to check palindrome or not:12341233\n",
      "The number isn't a palindrome!\n"
     ]
    }
   ],
   "source": [
    "# Write a program to palindrome or not.\n",
    "\n",
    "n = int(input(\"Enter number to check palindrome or not:\"))\n",
    "temp = n\n",
    "rev = 0\n",
    "while(n > 0):\n",
    "    dig = n % 10\n",
    "    rev = rev * 10 + dig\n",
    "    n = n // 10\n",
    "if(temp == rev):\n",
    "    print(\"The number is a palindrome!\")\n",
    "else:\n",
    "    print(\"The number isn't a palindrome!\") "
   ]
  },
  {
   "cell_type": "code",
   "execution_count": 24,
   "id": "6581b0f9",
   "metadata": {},
   "outputs": [
    {
     "name": "stdout",
     "output_type": "stream",
     "text": [
      "Enter Number to check is EVEN or ODD: 2\n",
      "2 is Even \n"
     ]
    }
   ],
   "source": [
    "\n",
    "# Program to check whether a number is EVEN or ODD using switch.\n",
    "\n",
    "a = int(input('Enter Number to check is EVEN or ODD: '))\n",
    "if a % 2 == 0:\n",
    "    print(\"{0} is Even \".format(a))\n",
    "else:\n",
    "    print(\"{0} is Odd \".format(a))  \n"
   ]
  },
  {
   "cell_type": "code",
   "execution_count": 25,
   "id": "acc32a28",
   "metadata": {},
   "outputs": [
    {
     "name": "stdout",
     "output_type": "stream",
     "text": [
      "Enter Number to check is Male or Female: f\n",
      "Your gender is Female\n"
     ]
    }
   ],
   "source": [
    "# . Print gender (Male/Female) program according to given M/F using switch\n",
    "c = input('Enter Number to check is Male or Female: ')\n",
    "if c == 'F'or c == 'f':\n",
    "      print(\"Your gender is Female\")\n",
    "elif c == 'M'or c == 'm':\n",
    "    print(\"Your gender is Male\")\n",
    "    \n",
    "elif c == 'O'or c == 'o':\n",
    "    print(\"Your gender is Other\")\n",
    "else:\n",
    "    print(\"Please give the right input..\")"
   ]
  },
  {
   "cell_type": "markdown",
   "id": "d56cb25d",
   "metadata": {},
   "source": [
    "4.Arrays"
   ]
  },
  {
   "cell_type": "code",
   "execution_count": 34,
   "id": "30ac64d8",
   "metadata": {},
   "outputs": [
    {
     "name": "stdout",
     "output_type": "stream",
     "text": [
      "Sum of all integer values in array:  100\n"
     ]
    }
   ],
   "source": [
    "# Write a function to add integer values of an array.\n",
    "\n",
    "from audioop import avg\n",
    "from operator import index\n",
    "from turtle import position\n",
    "from typing import final\n",
    "\n",
    "#Initialize array \n",
    "arr = [10,20,30,40]\n",
    "sum = 0\n",
    "#Loop through the array to calculate sum of elements \n",
    "for i in range(0,len(arr)):\n",
    "    sum = sum + arr[i]\n",
    "print(\"Sum of all integer values in array: \",sum) "
   ]
  },
  {
   "cell_type": "code",
   "execution_count": 27,
   "id": "6a80ea92",
   "metadata": {},
   "outputs": [
    {
     "name": "stdout",
     "output_type": "stream",
     "text": [
      "The average is 32.0\n"
     ]
    }
   ],
   "source": [
    "# Write a function to calculate the average value of an array of integers.\n",
    "\n",
    "def cal_average(num):\n",
    "    sum_num = 0\n",
    "    #Loop through the array to average value of elements \n",
    "    for i in num:\n",
    "        sum_num = sum_num + i          \n",
    "\n",
    "    avg = sum_num / len(num)\n",
    "    return avg\n",
    "\n",
    "print(\"The average is\", cal_average([10,21,32,43,54]))"
   ]
  },
  {
   "cell_type": "code",
   "execution_count": 28,
   "id": "12531aa2",
   "metadata": {},
   "outputs": [
    {
     "name": "stdout",
     "output_type": "stream",
     "text": [
      "Index of 3:  1\n",
      "Index of 9:  11\n",
      "Index of 8:  9\n"
     ]
    }
   ],
   "source": [
    "\n",
    "# Write a program to find the index of an array element.\n",
    "\n",
    "#Initialize array\n",
    "arr = [1,3,5,3,1,2,6,5,3,8,6,9]\n",
    "\n",
    "#printing element at specific index in array\n",
    "index = arr.index(3)\n",
    "print(\"Index of 3: \",index)\n",
    "\n",
    "index = arr.index(9)\n",
    "print(\"Index of 9: \",index)\n",
    "\n",
    "index = arr.index(8)\n",
    "print(\"Index of 8: \",index)"
   ]
  },
  {
   "cell_type": "code",
   "execution_count": 29,
   "id": "f648cbe5",
   "metadata": {},
   "outputs": [
    {
     "name": "stdout",
     "output_type": "stream",
     "text": [
      "Element exist\n"
     ]
    }
   ],
   "source": [
    "# Write a function to test if array contains a specific value.\n",
    "\n",
    "#Initialize array\n",
    "arr = [4,5,45,40,50]\n",
    "#Loop through array to test if array contains a specific value\n",
    "for num in arr:\n",
    "    if num == 5:\n",
    "        print(\"Element exist\")"
   ]
  },
  {
   "cell_type": "code",
   "execution_count": 30,
   "id": "b093f265",
   "metadata": {},
   "outputs": [
    {
     "name": "stdout",
     "output_type": "stream",
     "text": [
      "[44, 55, 15, 19, 5, 4]\n"
     ]
    }
   ],
   "source": [
    "# Write a function to remove a specific element from an array.\n",
    "\n",
    "#Initialize array\n",
    "arr = [44,55,0,15,19,5,4]\n",
    "\n",
    "#removing a specific element from an array\n",
    "arr.remove(0)\n",
    "print(arr)"
   ]
  },
  {
   "cell_type": "code",
   "execution_count": 31,
   "id": "5f52bf4c",
   "metadata": {},
   "outputs": [
    {
     "name": "stdout",
     "output_type": "stream",
     "text": [
      "['T', 'a', 'h', 'u', 'r', 'a']\n"
     ]
    }
   ],
   "source": [
    "# Write a function to copy an array to another array\n",
    "\n",
    "#Initialize array\n",
    "arr = ['T','a','h','u','r','a']\n",
    "arr1 = [] #creating empy array\n",
    "arr1 = arr.copy() #copying/duplicating arr in arr1\n",
    "print(arr1)"
   ]
  },
  {
   "cell_type": "code",
   "execution_count": 32,
   "id": "f4d8d7bc",
   "metadata": {},
   "outputs": [
    {
     "name": "stdout",
     "output_type": "stream",
     "text": [
      "[101, 202, 303, 404, 505, 606, 707, 808, 909]\n"
     ]
    }
   ],
   "source": [
    "\n",
    "# Write a function to insert an element at a specific position in the array.\n",
    "\n",
    "#Initialize array\n",
    "arr = [101,303,404,505,606,707,808,909]\n",
    "arr.insert(1,202) #insert 202 at index 1 in arr\n",
    "print(arr)"
   ]
  },
  {
   "cell_type": "code",
   "execution_count": 2,
   "id": "0372674b",
   "metadata": {},
   "outputs": [
    {
     "name": "stdout",
     "output_type": "stream",
     "text": [
      "The minimum is at position:: 0\n",
      "The maximum is at position:: 7\n"
     ]
    }
   ],
   "source": [
    "\n",
    "# Write a function to find the minimum and maximum value of an array.\n",
    "\n",
    "#Initialize array\n",
    "arr = [1,3,3000,20,500,9999,10000,10003]\n",
    "\n",
    "#minimum value of array\n",
    "minposition = arr.index(min(arr))\n",
    "print (\"The minimum is at position::\", minposition)\n",
    "\n",
    "#maximum value of array\n",
    "maxposition = arr.index(max(arr))\n",
    "print (\"The maximum is at position::\", maxposition)"
   ]
  },
  {
   "cell_type": "code",
   "execution_count": 3,
   "id": "3344928f",
   "metadata": {},
   "outputs": [
    {
     "name": "stdout",
     "output_type": "stream",
     "text": [
      "[5, 6, 7, 8, 9]\n"
     ]
    }
   ],
   "source": [
    "\n",
    "# Write a function to reverse an array of integer values.\n",
    "\n",
    "#Initialize array\n",
    "arr = [9,8,7,6,5]\n",
    "arr.reverse() #to reverse an array of integer values\n",
    "print(arr)"
   ]
  },
  {
   "cell_type": "code",
   "execution_count": 4,
   "id": "2a9ea08d",
   "metadata": {},
   "outputs": [
    {
     "name": "stdout",
     "output_type": "stream",
     "text": [
      "Duplicate element in given array: 0\n"
     ]
    }
   ],
   "source": [
    "# Write a function to find the duplicate values of an array.\n",
    " \n",
    "#Initialize array    \n",
    "arr = [21,0,31,13,0]\n",
    "#Using loop to check duplicate values in array\n",
    "for i in range(0,len(arr)):\n",
    "    for k in range(i + 1,len(arr)):\n",
    "        if arr[i] == arr[k]:\n",
    "            print(\"Duplicate element in given array:\",arr[k])"
   ]
  },
  {
   "cell_type": "code",
   "execution_count": 5,
   "id": "e74ebbbe",
   "metadata": {},
   "outputs": [
    {
     "name": "stdout",
     "output_type": "stream",
     "text": [
      "Common values in given arrays: {'h', 'a', 'T'}\n"
     ]
    }
   ],
   "source": [
    "# Write a program to find the common values between two arrays.\n",
    "\n",
    "#Initialize array\n",
    "arr = ['T','a','h','u','r','a']\n",
    "arr1 = ['a','h','T']\n",
    "print(\"Common values in given arrays:\",set(arr).intersection(arr1))"
   ]
  },
  {
   "cell_type": "code",
   "execution_count": 6,
   "id": "789b58cb",
   "metadata": {},
   "outputs": [
    {
     "name": "stdout",
     "output_type": "stream",
     "text": [
      "[11, 22, 33, 44, 55]\n"
     ]
    }
   ],
   "source": [
    "# Write a method to remove duplicate elements from an array.\n",
    "\n",
    "#Initialize array\n",
    "arr = [11,22,33,11,44,55]\n",
    "finalarr = [] #empty array\n",
    "#Using loop to remove duplicated elements\n",
    "for i in arr:\n",
    "    if i not in finalarr:\n",
    "        finalarr.append(i)\n",
    "print(finalarr)"
   ]
  },
  {
   "cell_type": "code",
   "execution_count": 7,
   "id": "09cc91c1",
   "metadata": {},
   "outputs": [
    {
     "name": "stdout",
     "output_type": "stream",
     "text": [
      "Second largest number: 808\n"
     ]
    }
   ],
   "source": [
    "# Write a method to find the second largest number in an array.\n",
    "\n",
    "#Initialize array\n",
    "arr = [101,404,202,909,606,505,808,303,707]\n",
    "arr.sort() #Sorting in ascending order. \n",
    "print(\"Second largest number:\",arr[-2]) #displaying the second last element."
   ]
  },
  {
   "cell_type": "code",
   "execution_count": 8,
   "id": "308c5578",
   "metadata": {},
   "outputs": [
    {
     "name": "stdout",
     "output_type": "stream",
     "text": [
      "Even Numbers in given array: 4\n",
      "Odd Numbers in given array: 5\n"
     ]
    }
   ],
   "source": [
    "# Write a method to find number of even number and odd numbers in an array.\n",
    "\n",
    "#Initialize array\n",
    "arr = [1,2,3,4,5,6,7,8,9]\n",
    "evennumbers = 0\n",
    "oddnumbers = 0\n",
    "#using loop to find even and odd numbers in array\n",
    "for i in arr:\n",
    "    if i % 2 == 0:\n",
    "        evennumbers += 1\n",
    "    else:\n",
    "        oddnumbers += 1 \n",
    "print(\"Even Numbers in given array:\",evennumbers)\n",
    "print(\"Odd Numbers in given array:\",oddnumbers)"
   ]
  },
  {
   "cell_type": "code",
   "execution_count": 9,
   "id": "3c425bf6",
   "metadata": {},
   "outputs": [
    {
     "name": "stdout",
     "output_type": "stream",
     "text": [
      "Diffrence of largest and smallest value: 8\n"
     ]
    }
   ],
   "source": [
    "\n",
    "\n",
    "# Write a function to get the difference of largest and smallest value.\n",
    "\n",
    "#Initialize array\n",
    "arr = [10,6,11,13,14]\n",
    "arr.sort() #Sorting in ascending order\n",
    "print(\"Diffrence of largest and smallest value:\",arr[4]-arr[0])"
   ]
  },
  {
   "cell_type": "code",
   "execution_count": 10,
   "id": "de741f96",
   "metadata": {},
   "outputs": [
    {
     "name": "stdout",
     "output_type": "stream",
     "text": [
      "Exist in array\n",
      "Exist in array\n"
     ]
    }
   ],
   "source": [
    "# Write a method to verify if the array contains two specified elements(12,23).\n",
    "\n",
    "#Initialize array\n",
    "arr = [1,12,19,23,33,54]\n",
    "#using loop to find if array contains specific elements\n",
    "for i in arr:\n",
    "    if i == 12:\n",
    "        print(\"Exist in array\")\n",
    "    if i == 23:\n",
    "        print(\"Exist in array\")\n"
   ]
  },
  {
   "cell_type": "code",
   "execution_count": 11,
   "id": "99bd7db1",
   "metadata": {},
   "outputs": [
    {
     "name": "stdout",
     "output_type": "stream",
     "text": [
      "The original array is:  [1, 5, 3, 6, 3, 5, 6, 1]\n",
      "The array after removing repeated elements:  [1, 5, 3, 6]\n"
     ]
    }
   ],
   "source": [
    "# 18. Write a program to remove the duplicate elements and return the new array\n",
    "lst = [1, 5, 3, 6, 3, 5, 6,  1] \n",
    "print (\"The original array is: \",lst) \n",
    "\n",
    "# Remove repeated elements from array \n",
    "result = []\n",
    "\n",
    "for i in lst: \n",
    "   if i not in result: \n",
    "      result.append(i) \n",
    "\n",
    "print (\"The array after removing repeated elements: \", result)"
   ]
  },
  {
   "cell_type": "markdown",
   "id": "5554c6ad",
   "metadata": {},
   "source": [
    "5.Static"
   ]
  },
  {
   "cell_type": "code",
   "execution_count": 12,
   "id": "cbac6ed5",
   "metadata": {},
   "outputs": [
    {
     "name": "stdout",
     "output_type": "stream",
     "text": [
      "9\n"
     ]
    }
   ],
   "source": [
    "# Define a static variable and access that through a class.\n",
    "\n",
    "class Python:\n",
    "# Access through class    \n",
    " staticVariable = 9 \n",
    "print(Python.staticVariable)"
   ]
  },
  {
   "cell_type": "code",
   "execution_count": 15,
   "id": "bfc74002",
   "metadata": {},
   "outputs": [
    {
     "name": "stdout",
     "output_type": "stream",
     "text": [
      "23\n"
     ]
    }
   ],
   "source": [
    "#Change within an class\n",
    "Python.staticVariable = 23\n",
    "print(Python.staticVariable) # Gives 23"
   ]
  },
  {
   "cell_type": "code",
   "execution_count": 17,
   "id": "50005805",
   "metadata": {},
   "outputs": [
    {
     "name": "stdout",
     "output_type": "stream",
     "text": [
      "23\n"
     ]
    }
   ],
   "source": [
    "#Access through an instance\n",
    "instance = Python()\n",
    "print(instance.staticVariable) # Gives 23\n"
   ]
  },
  {
   "cell_type": "code",
   "execution_count": 19,
   "id": "c86b5392",
   "metadata": {},
   "outputs": [
    {
     "name": "stdout",
     "output_type": "stream",
     "text": [
      "15\n",
      "23\n"
     ]
    }
   ],
   "source": [
    "#Change within an instance\n",
    "instance.staticVariable = 15\n",
    "print(instance.staticVariable) # Gives 15\n",
    "print(Python.staticVariable) #Gives 23"
   ]
  },
  {
   "cell_type": "markdown",
   "id": "b432a775",
   "metadata": {},
   "source": [
    "6.Strings"
   ]
  },
  {
   "cell_type": "code",
   "execution_count": 21,
   "id": "11eda801",
   "metadata": {},
   "outputs": [
    {
     "name": "stdout",
     "output_type": "stream",
     "text": [
      "Hello\n",
      "Hello\n",
      "World\n",
      "Welcome to\n",
      "           the world of Python\n",
      "\n"
     ]
    }
   ],
   "source": [
    "\n",
    "# Different ways creating a string.\n",
    "\n",
    "string = 'Hello'\n",
    "print(string)\n",
    "\n",
    "string = \"Hello\"\n",
    "print(string)\n",
    "\n",
    "string1 = '''World'''\n",
    "print(string1)\n",
    "\n",
    "string2 = \"\"\"Welcome to\n",
    "           the world of Python\"\"\" # triple quotes string can extend multiple lines\n",
    "print(string2)\n",
    "print()"
   ]
  },
  {
   "cell_type": "code",
   "execution_count": 22,
   "id": "2e6cbb59",
   "metadata": {},
   "outputs": [
    {
     "name": "stdout",
     "output_type": "stream",
     "text": [
      "Concatenated two different strings: HelloWorld\n",
      "\n"
     ]
    }
   ],
   "source": [
    "# Concatenating two strings using + operator\n",
    "str1 = string + string1\n",
    "print(\"Concatenated two different strings:\",str1)\n",
    "print()"
   ]
  },
  {
   "cell_type": "code",
   "execution_count": 23,
   "id": "a2a9bfa3",
   "metadata": {},
   "outputs": [
    {
     "name": "stdout",
     "output_type": "stream",
     "text": [
      "length of the string: 10\n",
      "\n"
     ]
    }
   ],
   "source": [
    "# Finding the length of the string.\n",
    "print(\"length of the string:\",len(str1))\n",
    "print()"
   ]
  },
  {
   "cell_type": "code",
   "execution_count": 24,
   "id": "02ab5656",
   "metadata": {},
   "outputs": [
    {
     "name": "stdout",
     "output_type": "stream",
     "text": [
      "Position of ura: 3\n",
      "Position of h: 2\n",
      "\n"
     ]
    }
   ],
   "source": [
    "# Extract a string using Substring.\n",
    "\n",
    "# Searching in strings using index()\n",
    "str3 = 'Tahura'\n",
    "str1 = 'ura'\n",
    "str2 = 'h'\n",
    "print(\"Position of ura:\",str3.index(str1))\n",
    "print(\"Position of h:\",str3.index(str2))\n",
    "print()"
   ]
  },
  {
   "cell_type": "code",
   "execution_count": 25,
   "id": "30943c60",
   "metadata": {},
   "outputs": [
    {
     "name": "stdout",
     "output_type": "stream",
     "text": [
      "<re.Match object; span=(0, 6), match='Madara'>\n",
      "\n"
     ]
    }
   ],
   "source": [
    "\n",
    "# Matching a String Against a Regular Expression With matches().\n",
    "from ast import Str\n",
    "import re\n",
    "Substr = 'Madara'\n",
    "str6 = 'Madara once said- Wake up to relity nothing goes as planned in this cursed world'\n",
    "print(re.match(Substr,str6))\n",
    "print()"
   ]
  },
  {
   "cell_type": "code",
   "execution_count": 26,
   "id": "f474c7be",
   "metadata": {},
   "outputs": [
    {
     "name": "stdout",
     "output_type": "stream",
     "text": [
      "False\n",
      "True\n",
      "False\n",
      "True\n",
      "\n"
     ]
    }
   ],
   "source": [
    "# Comparing strings.\n",
    "str8 = 'Itachi uchiha'\n",
    "str1 = 'Madara uchiha'\n",
    "str2 = str8\n",
    "print(str8 == str1)\n",
    "print(str8 == str2)\n",
    "print(str1 == str2)\n",
    "print(str8 != str1)\n",
    "print()"
   ]
  },
  {
   "cell_type": "code",
   "execution_count": 27,
   "id": "b81e1c7f",
   "metadata": {},
   "outputs": [
    {
     "name": "stdout",
     "output_type": "stream",
     "text": [
      "True\n",
      "True\n",
      "\n"
     ]
    }
   ],
   "source": [
    "# startsWith(), endsWith().\n",
    "string = 'Minato Namikaze'\n",
    "print(string.startswith(\"Minato\"))\n",
    "print(string.endswith(\"kaze\"))\n",
    "print()"
   ]
  },
  {
   "cell_type": "code",
   "execution_count": 28,
   "id": "0ab86d18",
   "metadata": {},
   "outputs": [
    {
     "name": "stdout",
     "output_type": "stream",
     "text": [
      "Hello World \n",
      "\n"
     ]
    }
   ],
   "source": [
    "\n",
    "# Trimming strings with strip().\n",
    "str7 = 'Hello World hi'\n",
    "print(str7.strip(\"hi\"))\n",
    "print()"
   ]
  },
  {
   "cell_type": "code",
   "execution_count": 29,
   "id": "319af795",
   "metadata": {},
   "outputs": [
    {
     "name": "stdout",
     "output_type": "stream",
     "text": [
      "Hello World\n",
      "\n"
     ]
    }
   ],
   "source": [
    "# Replacing characters in strings with replace()\n",
    "string = 'Hi World'\n",
    "print(string.replace(\"Hi\",\"Hello\"))\n",
    "print()"
   ]
  },
  {
   "cell_type": "code",
   "execution_count": 30,
   "id": "cb512cd8",
   "metadata": {},
   "outputs": [
    {
     "name": "stdout",
     "output_type": "stream",
     "text": [
      "['hi', 'hello', 'bye']\n",
      "\n"
     ]
    }
   ],
   "source": [
    "# Splitting strings with split()\n",
    "str9 = 'hi-hello-bye'\n",
    "print(str9.split(\"-\"))\n",
    "print()"
   ]
  },
  {
   "cell_type": "code",
   "execution_count": 31,
   "id": "b41ca487",
   "metadata": {},
   "outputs": [
    {
     "name": "stdout",
     "output_type": "stream",
     "text": [
      "10\n",
      "<class 'str'>\n",
      "\n"
     ]
    }
   ],
   "source": [
    "# Converting integer objects to Strings.\n",
    "numb = 10\n",
    "numb1 = str(numb)\n",
    "print(numb1)\n",
    "print(type(numb1))\n",
    "\n",
    "print()"
   ]
  },
  {
   "cell_type": "code",
   "execution_count": 32,
   "id": "f2add4fa",
   "metadata": {},
   "outputs": [
    {
     "name": "stdout",
     "output_type": "stream",
     "text": [
      "HELLO\n",
      "world\n"
     ]
    }
   ],
   "source": [
    "\n",
    "# Converting to uppercase and lowercase.\n",
    "string = 'hello'\n",
    "string1 = 'WORLD'\n",
    "print(string.upper())\n",
    "print(string1.lower())\n"
   ]
  },
  {
   "cell_type": "markdown",
   "id": "9cad2c01",
   "metadata": {},
   "source": [
    "\n",
    "7. Inheritance\n",
    "\n",
    "\n",
    "\n"
   ]
  },
  {
   "cell_type": "code",
   "execution_count": 33,
   "id": "891d6a13",
   "metadata": {},
   "outputs": [
    {
     "name": "stdout",
     "output_type": "stream",
     "text": [
      "Display Inside class A \n",
      "Print Inside class B\n",
      "Show Inside class C \n"
     ]
    }
   ],
   "source": [
    "class A():  \n",
    "    def display(dp):\n",
    "        print(\"Display Inside class A \")\n",
    " # class A show method    \n",
    "    def show(self):\n",
    "        print(\"Show Inside class A\")\n",
    "            \n",
    "# Inherited or Sub class (Note A in bracket) \n",
    "class B (A): \n",
    "    def print(pt):\n",
    "        print(\"Print Inside class B\")    \n",
    "    # class B show method\n",
    "    def show(self):\n",
    "        print(\"Show Inside class B\")\n",
    "        # Inherited or Sub class (Note B in bracket) \n",
    "class C (B): \n",
    "          \n",
    "    # class C show method\n",
    "    def show(self):\n",
    "        print(\"Show Inside class C \")         \n",
    "    \n",
    "# Driver code \n",
    "s = A()\n",
    "s.display()\n",
    "k= B()\n",
    "k.print()\n",
    "g = C()   \n",
    "g.show()"
   ]
  },
  {
   "cell_type": "markdown",
   "id": "00c408a9",
   "metadata": {},
   "source": [
    "8.Access Modifiers"
   ]
  },
  {
   "cell_type": "code",
   "execution_count": 34,
   "id": "caf7ec6f",
   "metadata": {},
   "outputs": [
    {
     "name": "stdout",
     "output_type": "stream",
     "text": [
      "Public Data Member:  KG\n",
      "Protected Data Member:  5\n",
      "Private Data Member:  KG !\n",
      "Object is accessing protected member: 5\n"
     ]
    }
   ],
   "source": [
    "# super class\n",
    "class Super:\n",
    "     \n",
    "     # public data member\n",
    "     var1 = None\n",
    " \n",
    "     # protected data member\n",
    "     _var2 = None\n",
    "      \n",
    "     # private data member\n",
    "     __var3 = None\n",
    "     \n",
    "     # constructor\n",
    "     def __init__(self, var1, var2, var3): \n",
    "          self.var1 = var1\n",
    "          self._var2 = var2\n",
    "          self.__var3 = var3\n",
    "     \n",
    "    # public member function  \n",
    "     def displayPublicMembers(self):\n",
    "  \n",
    "          # accessing public data members\n",
    "          print(\"Public Data Member: \", self.var1)\n",
    "        \n",
    "     # protected member function  \n",
    "     def _displayProtectedMembers(self):\n",
    "  \n",
    "          # accessing protected data members\n",
    "          print(\"Protected Data Member: \", self._var2)\n",
    "      \n",
    "     # private member function  \n",
    "     def __displayPrivateMembers(self):\n",
    "  \n",
    "          # accessing private data members\n",
    "          print(\"Private Data Member: \", self.__var3)\n",
    " \n",
    "     # public member function\n",
    "     def accessPrivateMembers(self):    \n",
    "           \n",
    "          # accessing private member function\n",
    "          self.__displayPrivateMembers()\n",
    "  \n",
    "# derived class\n",
    "class Sub(Super):\n",
    "  \n",
    "      # constructor\n",
    "       def __init__(self, var1, var2, var3):\n",
    "                Super.__init__(self, var1, var2, var3)\n",
    "           \n",
    "      # public member function\n",
    "       def accessProtectedMembers(self):\n",
    "                 \n",
    "                # accessing protected member functions of super class\n",
    "                self._displayProtectedMembers()\n",
    "  \n",
    "# creating objects of the derived class    \n",
    "obj = Sub(\"KG\", 5 , \"KG !\")\n",
    " \n",
    "# calling public member functions of the class\n",
    "obj.displayPublicMembers()\n",
    "obj.accessProtectedMembers()\n",
    "obj.accessPrivateMembers()\n",
    " \n",
    "# Object can access protected member\n",
    "print(\"Object is accessing protected member:\", obj._var2)\n",
    " \n",
    "# object can not access private member, so it will generate Attribute error\n",
    "#print(obj.__var3)"
   ]
  },
  {
   "cell_type": "markdown",
   "id": "38686101",
   "metadata": {},
   "source": [
    "9.Abstract Class"
   ]
  },
  {
   "cell_type": "code",
   "execution_count": 35,
   "id": "537bb548",
   "metadata": {},
   "outputs": [
    {
     "name": "stdout",
     "output_type": "stream",
     "text": [
      "Triangle: I have 3 sides\n",
      "Quadrilateral: I have 4 sides\n",
      "Pentagon: I have 5 sides\n",
      "Hexagon: I have 6 sides\n"
     ]
    }
   ],
   "source": [
    "from abc import ABC, abstractmethod\n",
    " \n",
    "class Polygon(ABC): #base class / super class\n",
    " \n",
    "    @abstractmethod\n",
    "    def noofsides(self):\n",
    "        pass\n",
    " \n",
    "class Triangle(Polygon): #subclass\n",
    " \n",
    "    # overriding abstract method\n",
    "    def noofsides(self):\n",
    "        print(\"Triangle: I have 3 sides\")\n",
    " \n",
    "class Pentagon(Polygon): #subclass\n",
    " \n",
    "    # overriding abstract method\n",
    "    def noofsides(self):\n",
    "        print(\"Pentagon: I have 5 sides\")\n",
    " \n",
    "class Hexagon(Polygon): #subclass\n",
    " \n",
    "    # overriding abstract method\n",
    "    def noofsides(self):\n",
    "        print(\"Hexagon: I have 6 sides\")\n",
    " \n",
    "class Quadrilateral(Polygon): #subclass\n",
    " \n",
    "    # overriding abstract method\n",
    "    def noofsides(self):\n",
    "        print(\"Quadrilateral: I have 4 sides\")\n",
    " \n",
    "# Driver code\n",
    "# Creating the objects to call the abstract method.\n",
    "R = Triangle()\n",
    "R.noofsides()\n",
    " \n",
    "K = Quadrilateral()\n",
    "K.noofsides()\n",
    " \n",
    "R = Pentagon()\n",
    "R.noofsides()\n",
    " \n",
    "K = Hexagon()\n",
    "K.noofsides()\n"
   ]
  },
  {
   "cell_type": "markdown",
   "id": "d29c7aeb",
   "metadata": {},
   "source": [
    "10.Packages"
   ]
  },
  {
   "cell_type": "markdown",
   "id": "534b6590",
   "metadata": {},
   "source": [
    "11.Files"
   ]
  },
  {
   "cell_type": "code",
   "execution_count": 36,
   "id": "3ff8bf7a",
   "metadata": {},
   "outputs": [
    {
     "ename": "FileNotFoundError",
     "evalue": "[Errno 2] No such file or directory: 'HW.txt'",
     "output_type": "error",
     "traceback": [
      "\u001b[1;31m---------------------------------------------------------------------------\u001b[0m",
      "\u001b[1;31mFileNotFoundError\u001b[0m                         Traceback (most recent call last)",
      "Input \u001b[1;32mIn [36]\u001b[0m, in \u001b[0;36m<cell line: 3>\u001b[1;34m()\u001b[0m\n\u001b[0;32m      1\u001b[0m \u001b[38;5;66;03m# Write a program to read text file.\u001b[39;00m\n\u001b[1;32m----> 3\u001b[0m file1 \u001b[38;5;241m=\u001b[39m \u001b[38;5;28;43mopen\u001b[39;49m\u001b[43m(\u001b[49m\u001b[38;5;124;43m\"\u001b[39;49m\u001b[38;5;124;43mHW.txt\u001b[39;49m\u001b[38;5;124;43m\"\u001b[39;49m\u001b[43m,\u001b[49m\u001b[38;5;124;43m\"\u001b[39;49m\u001b[38;5;124;43mr\u001b[39;49m\u001b[38;5;124;43m\"\u001b[39;49m\u001b[43m)\u001b[49m\n\u001b[0;32m      4\u001b[0m data \u001b[38;5;241m=\u001b[39m file1\u001b[38;5;241m.\u001b[39mread()\n\u001b[0;32m      5\u001b[0m \u001b[38;5;28mprint\u001b[39m(data)\n",
      "\u001b[1;31mFileNotFoundError\u001b[0m: [Errno 2] No such file or directory: 'HW.txt'"
     ]
    }
   ],
   "source": [
    "# Write a program to read text file.\n",
    "\n",
    "file1 = open(\"HW.txt\",\"r\")\n",
    "data = file1.read()\n",
    "print(data)\n",
    "print()\n",
    "\n",
    "file2 = open(\"Blank.txt\",\"w\")\n",
    "str1 = 'Python'\n",
    "file2.write(str1)\n",
    "print()\n",
    "\n",
    "file3 = open(\"HW.txt\",\"r+\")\n",
    "print(file3.readline(11))\n",
    "print()"
   ]
  },
  {
   "cell_type": "markdown",
   "id": "4122c0bc",
   "metadata": {},
   "source": [
    "12.Constructors"
   ]
  },
  {
   "cell_type": "code",
   "execution_count": 37,
   "id": "a639d340",
   "metadata": {},
   "outputs": [
    {
     "name": "stdout",
     "output_type": "stream",
     "text": [
      "Kashish\n",
      "KG\n",
      "Name: Tahura Azeez\n",
      "Roll: 543\n",
      "Branch: CSE\n"
     ]
    }
   ],
   "source": [
    "from unicodedata import name\n",
    "\n",
    "\n",
    "class A:\n",
    "    # default constructor\n",
    "    def __init__(self):\n",
    "     self.name = \"Kashish\"\n",
    "     # a method for printing data members\n",
    "    def print_A(self):\n",
    "        print(self.name)\n",
    "# creating object of the class\n",
    "obj = A()\n",
    "# calling the instance method using the object obj\n",
    "obj.print_A()\n",
    "\n",
    "class B(A):\n",
    "    def __init__(self):\n",
    "     self.name = \"KG\"\n",
    "    def print_B(self):\n",
    "        print(self.name)\n",
    "obj1 = B()\n",
    "obj1.print_B()\n",
    "\n",
    "class C:\n",
    "    # public data member\n",
    "    name = None\n",
    "\n",
    "     # protected data members\n",
    "    _roll = None \n",
    "\n",
    "     # private data member\n",
    "    __branch = None\n",
    "\n",
    "    # constructor\n",
    "    def __init__(self,name,roll,branch):\n",
    "        self.name = name  \n",
    "        self._roll = roll\n",
    "        self.__branch = branch  \n",
    "    def dsiplayName(self):\n",
    "        print(\"Name:\",self.name)\n",
    "        # protected member function\n",
    "    def _displayRoll(self):\n",
    "         # accessing protected data members\n",
    "        print(\"Roll:\",self._roll)\n",
    "\n",
    "         # private member function \n",
    "    def __displayBranch(self):\n",
    "        # accessing private data members\n",
    "        print(\"Branch:\",self.__branch)\n",
    "\n",
    "         # public member function\n",
    "    def access__displayBranch(self):     \n",
    "          # accessing private member function\n",
    "        self.__displayBranch()\n",
    "\n",
    "class D(C):\n",
    "    def __init__(self,name, roll, branch):\n",
    "        super().__init__(name,roll, branch)\n",
    "      # public member function\n",
    "    def access_displayRoll(self):            \n",
    "         # accessing protected member functions of super class\n",
    "        self._displayRoll()\n",
    "\n",
    "# creating objects of the derived class    \n",
    "obj = D(\"Tahura Azeez\", 543 , \"CSE\")\n",
    "# calling public member functions of the class  \n",
    "obj.dsiplayName()\n",
    "obj.access_displayRoll()\n",
    "obj.access__displayBranch()      "
   ]
  },
  {
   "cell_type": "markdown",
   "id": "7cd2c483",
   "metadata": {},
   "source": [
    "13.Method Overloading"
   ]
  },
  {
   "cell_type": "markdown",
   "id": "3c497fa2",
   "metadata": {},
   "source": [
    "14.Exceptions"
   ]
  },
  {
   "cell_type": "code",
   "execution_count": 38,
   "id": "30ae3202",
   "metadata": {},
   "outputs": [
    {
     "name": "stdout",
     "output_type": "stream",
     "text": [
      "Second element =  2\n",
      "An error occurred\n",
      "\n",
      "Both Equal\n",
      "\n",
      "Can't divide by zero\n",
      "This is always executed\n"
     ]
    }
   ],
   "source": [
    "a = [1, 2, 3]\n",
    "try:\n",
    "    print (\"Second element = \",a[1])\n",
    " \n",
    "    # Throws error since there are only 3 elements in array\n",
    "    print (\"Fourth element = \",a[3])\n",
    "    \n",
    "except:\n",
    "    print (\"An error occurred\")\n",
    "\n",
    "print()\n",
    "\n",
    "b = [3,2,1]\n",
    "try:\n",
    "    a == b\n",
    "except:\n",
    "    print(\"They are not equal\")\n",
    "else:\n",
    "    print(\"Both Equal\") \n",
    "\n",
    "print()\n",
    "\n",
    "try:\n",
    "    k = 5/0\n",
    "    print(k)\n",
    "except ZeroDivisionError:\n",
    "    print(\"Can't divide by zero\")\n",
    "finally:\n",
    "    print('This is always executed')                 "
   ]
  },
  {
   "cell_type": "markdown",
   "id": "de659d3e",
   "metadata": {},
   "source": [
    "15.Dictionary"
   ]
  },
  {
   "cell_type": "code",
   "execution_count": 39,
   "id": "789d92bd",
   "metadata": {},
   "outputs": [
    {
     "name": "stdout",
     "output_type": "stream",
     "text": [
      "Dictionary with each item as a pair: {1: 'Tahura', 2: 'Azeez', 3: 'Tahreen', 4: 'Ruhi', 5: 'Amreen'}\n",
      "\n",
      " Dictionary with new item added: {1: 'Tahura', 2: 'Azeez', 3: 'Tahreen', 4: 'Ruhi', 5: 'Amreen', 6: 'Hany'}\n",
      "\n",
      " Dictionary with updated values: {1: 'Tahura', 2: 'Azeez', 3: 'Ummay', 4: 'Ruhi', 5: 'Amreen', 6: 'Hany'}\n",
      "\n",
      " Accessing one value in Dictionary: Tahura\n",
      "\n",
      " Delete a value from a Dictionary: {1: 'Tahura', 2: 'Azeez', 3: 'Ummay', 4: 'Ruhi', 5: 'Amreen'}\n",
      "\n",
      " Nested loop Dictionary: {1: 'Amreen', 2: 'Sultana', 3: {'Age': 24, 'Branch': 'ECE', 'Year': '1st Year'}}\n",
      "\n",
      " Accessing an element of a Nested Dictionary: Sultana\n"
     ]
    }
   ],
   "source": [
    "#Creating dictionary\n",
    "Dict = dict([(1,'Tahura'), (2,'Azeez'), (3,'Tahreen'), (4,'Ruhi'), (5,'Amreen')])\n",
    "print(\"Dictionary with each item as a pair:\",Dict) #printing dictionary\n",
    "\n",
    "#adding element in dictionary\n",
    "Dict[6] = 'Hany'\n",
    "print(\"\\n Dictionary with new item added:\",Dict)\n",
    "\n",
    "#updating values in dictionary\n",
    "Dict[3] = 'Ummay'\n",
    "print(\"\\n Dictionary with updated values:\",Dict)\n",
    "\n",
    "print(\"\\n Accessing one value in Dictionary:\",Dict[1])\n",
    "\n",
    "#deleting value from drictionary\n",
    "del Dict[6]\n",
    "print(\"\\n Delete a value from a Dictionary:\",Dict)\n",
    "\n",
    "#creating a nested dictionary\n",
    "Dict1 = {1: 'Amreen', 2: 'Sultana',\n",
    "        3:{'Age' : 24, 'Branch' : 'ECE', 'Year' : '1st Year'}}\n",
    "print(\"\\n Nested loop Dictionary:\",Dict1)\n",
    "\n",
    "print(\"\\n Accessing an element of a Nested Dictionary:\",Dict1[2])\n"
   ]
  }
 ],
 "metadata": {
  "kernelspec": {
   "display_name": "Python 3 (ipykernel)",
   "language": "python",
   "name": "python3"
  },
  "language_info": {
   "codemirror_mode": {
    "name": "ipython",
    "version": 3
   },
   "file_extension": ".py",
   "mimetype": "text/x-python",
   "name": "python",
   "nbconvert_exporter": "python",
   "pygments_lexer": "ipython3",
   "version": "3.9.12"
  }
 },
 "nbformat": 4,
 "nbformat_minor": 5
}
