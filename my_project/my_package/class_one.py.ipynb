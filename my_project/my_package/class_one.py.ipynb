{
 "cells": [
  {
   "cell_type": "code",
   "execution_count": 1,
   "id": "78c38941",
   "metadata": {},
   "outputs": [],
   "source": [
    "class ClassOne:\n",
    "    def __init__(self, name):\n",
    "        \"\"\"Constructor to initialize ClassOne\"\"\"\n",
    "        self.name = name\n",
    "\n",
    "    def show(self):\n",
    "        \"\"\"Method to display class details\"\"\"\n",
    "        print(f\"ClassOne Name: {self.name}\")\n"
   ]
  }
 ],
 "metadata": {
  "kernelspec": {
   "display_name": "Python 3 (ipykernel)",
   "language": "python",
   "name": "python3"
  },
  "language_info": {
   "codemirror_mode": {
    "name": "ipython",
    "version": 3
   },
   "file_extension": ".py",
   "mimetype": "text/x-python",
   "name": "python",
   "nbconvert_exporter": "python",
   "pygments_lexer": "ipython3",
   "version": "3.9.12"
  }
 },
 "nbformat": 4,
 "nbformat_minor": 5
}
