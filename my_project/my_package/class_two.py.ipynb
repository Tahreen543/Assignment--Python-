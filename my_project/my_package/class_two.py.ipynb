{
 "cells": [
  {
   "cell_type": "code",
   "execution_count": 2,
   "id": "b2a654bd",
   "metadata": {},
   "outputs": [],
   "source": [
    "class ClassTwo:\n",
    "    def __init__(self, value):\n",
    "        \"\"\"Constructor to initialize ClassTwo\"\"\"\n",
    "        self.value = value\n",
    "\n",
    "    def display(self):\n",
    "        \"\"\"Method to display class details\"\"\"\n",
    "        print(f\"ClassTwo Value: {self.value}\")\n"
   ]
  }
 ],
 "metadata": {
  "kernelspec": {
   "display_name": "Python 3 (ipykernel)",
   "language": "python",
   "name": "python3"
  },
  "language_info": {
   "codemirror_mode": {
    "name": "ipython",
    "version": 3
   },
   "file_extension": ".py",
   "mimetype": "text/x-python",
   "name": "python",
   "nbconvert_exporter": "python",
   "pygments_lexer": "ipython3",
   "version": "3.9.12"
  }
 },
 "nbformat": 4,
 "nbformat_minor": 5
}
